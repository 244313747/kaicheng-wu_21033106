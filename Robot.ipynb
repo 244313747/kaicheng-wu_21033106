{
 "cells": [
  {
   "cell_type": "code",
   "execution_count": 1,
   "id": "76197600",
   "metadata": {
    "scrolled": true
   },
   "outputs": [
    {
     "name": "stdout",
     "output_type": "stream",
     "text": [
      "Requirement already satisfied: aiml in d:\\users\\24431\\miniconda3\\envs\\stem\\lib\\site-packages (0.9.2)\n",
      "Requirement already satisfied: setuptools in d:\\users\\24431\\miniconda3\\envs\\stem\\lib\\site-packages (from aiml) (59.8.0)\n",
      "Requirement already satisfied: python-aiml in d:\\users\\24431\\miniconda3\\envs\\stem\\lib\\site-packages (0.9.3)\n",
      "Requirement already satisfied: setuptools in d:\\users\\24431\\miniconda3\\envs\\stem\\lib\\site-packages (from python-aiml) (59.8.0)\n"
     ]
    }
   ],
   "source": [
    "!pip install aiml\n",
    "!pip install python-aiml"
   ]
  },
  {
   "cell_type": "code",
   "execution_count": 2,
   "id": "0894e2bf",
   "metadata": {},
   "outputs": [],
   "source": [
    "import aiml\n",
    "import sys\n",
    "import os"
   ]
  },
  {
   "cell_type": "code",
   "execution_count": 3,
   "id": "5191fc68",
   "metadata": {},
   "outputs": [],
   "source": [
    "def get_module_dir(name):\n",
    "    path = getattr(sys.modules[name], '__file__', None)\n",
    "    if not path:\n",
    "        raise AttributeError('module %s has not attribute __file__' % name)\n",
    "    return os.path.dirname(os.path.abspath(path))"
   ]
  },
  {
   "cell_type": "code",
   "execution_count": 4,
   "id": "cfeec927",
   "metadata": {},
   "outputs": [
    {
     "name": "stdout",
     "output_type": "stream",
     "text": [
      "C:\\Users\\24431\\Documents\\GitHub\\nlp-22-23\\project\\aiml/botdata/alice\n"
     ]
    }
   ],
   "source": [
    "alice_path = get_module_dir('aiml') + '/botdata/alice'\n",
    "os.chdir(alice_path)\n",
    "print(alice_path)"
   ]
  },
  {
   "cell_type": "code",
   "execution_count": 5,
   "id": "f5258946",
   "metadata": {},
   "outputs": [
    {
     "name": "stdout",
     "output_type": "stream",
     "text": [
      "Loading startup.xml...done (0.00 seconds)\n",
      "Loading ai.aiml...done (0.00 seconds)\n",
      "Loading alice.aiml...done (0.00 seconds)\n",
      "Loading astrology.aiml...done (0.00 seconds)\n",
      "Loading atomic.aiml...done (0.11 seconds)\n",
      "Loading biography.aiml...done (0.02 seconds)\n",
      "Loading bot.aiml...done (0.06 seconds)\n",
      "Loading bot_profile.aiml...done (0.00 seconds)\n",
      "Loading client.aiml...done (0.02 seconds)\n",
      "Loading client_profile.aiml...done (0.00 seconds)\n",
      "Loading computers.aiml...done (0.02 seconds)\n",
      "Loading constellation.aiml...done (0.09 seconds)\n",
      "Loading continuation.aiml...done (0.00 seconds)\n",
      "Loading date.aiml...done (0.00 seconds)\n",
      "Loading default.aiml...done (0.06 seconds)\n",
      "Loading drugs.aiml...done (0.00 seconds)\n",
      "Loading emotion.aiml...done (0.00 seconds)\n",
      "Loading food.aiml...done (0.00 seconds)\n",
      "Loading geography.aiml...done (0.09 seconds)\n",
      "Loading gossip.aiml...done (0.00 seconds)\n",
      "Loading history.aiml...done (0.00 seconds)\n",
      "Loading humor.aiml...done (0.00 seconds)\n",
      "Loading imponderables.aiml...done (0.00 seconds)\n",
      "Loading inquiry.aiml...done (0.00 seconds)\n",
      "Loading interjection.aiml...done (0.00 seconds)\n",
      "Loading iu.aiml...done (0.00 seconds)\n",
      "Loading knowledge.aiml...done (0.03 seconds)\n",
      "Loading literature.aiml...done (0.02 seconds)\n",
      "Loading loebner10.aiml...done (0.00 seconds)\n",
      "Loading money.aiml...done (0.00 seconds)\n",
      "Loading movies.aiml...done (0.00 seconds)\n",
      "Loading mp0.aiml...done (0.14 seconds)\n",
      "Loading mp1.aiml...done (0.17 seconds)\n",
      "Loading mp2.aiml...done (0.11 seconds)\n",
      "Loading mp3.aiml...done (0.20 seconds)\n",
      "Loading mp4.aiml...done (0.08 seconds)\n",
      "Loading mp5.aiml...done (0.20 seconds)\n",
      "Loading mp6.aiml...done (0.06 seconds)\n",
      "Loading music.aiml...done (0.00 seconds)\n",
      "Loading numbers.aiml...done (0.00 seconds)\n",
      "Loading personality.aiml...done (0.02 seconds)\n",
      "Loading phone.aiml...done (0.00 seconds)\n",
      "Loading pickup.aiml...done (0.00 seconds)\n",
      "Loading politics.aiml...done (0.00 seconds)\n",
      "Loading primeminister.aiml...done (0.00 seconds)\n",
      "Loading psychology.aiml...done (0.00 seconds)\n",
      "Loading reduction.names.aiml...done (0.09 seconds)\n",
      "Loading reduction0.safe.aiml...done (0.27 seconds)\n",
      "Loading reduction1.safe.aiml...done (0.14 seconds)\n",
      "Loading reduction2.safe.aiml...done (0.08 seconds)\n",
      "Loading reduction3.safe.aiml...done (0.06 seconds)\n",
      "Loading reduction4.safe.aiml...done (0.09 seconds)\n",
      "Loading reductions-update.aiml...done (0.00 seconds)\n",
      "Loading religion.aiml...done (0.00 seconds)\n",
      "Loading salutations.aiml...done (0.00 seconds)\n",
      "Loading science.aiml...done (0.00 seconds)\n",
      "Loading sex.aiml...done (0.00 seconds)\n",
      "Loading sports.aiml...done (0.00 seconds)\n",
      "Loading stack.aiml...done (0.00 seconds)\n",
      "Loading stories.aiml...done (0.03 seconds)\n",
      "Loading that.aiml...done (0.03 seconds)\n",
      "Loading update1.aiml...done (0.20 seconds)\n",
      "Loading update_mccormick.aiml...done (0.00 seconds)\n",
      "Loading wallace.aiml...done (0.02 seconds)\n",
      "Loading xfind.aiml...done (0.00 seconds)\n"
     ]
    },
    {
     "data": {
      "text/plain": [
       "''"
      ]
     },
     "execution_count": 5,
     "metadata": {},
     "output_type": "execute_result"
    }
   ],
   "source": [
    "alice = aiml.Kernel()\n",
    "alice.learn(\"startup.xml\")\n",
    "alice.respond('LOAD ALICE')"
   ]
  },
  {
   "cell_type": "code",
   "execution_count": null,
   "id": "68c3f24a",
   "metadata": {},
   "outputs": [],
   "source": [
    "#Some conversations on constellation topics and daily chat\n",
    "while True:\n",
    "    print(alice.respond(input(\"🤖 My name is K. Feel free to chat with me >> \")))"
   ]
  },
  {
   "cell_type": "code",
   "execution_count": null,
   "id": "0a7b40f1",
   "metadata": {},
   "outputs": [],
   "source": []
  }
 ],
 "metadata": {
  "kernelspec": {
   "display_name": "Python 3 (ipykernel)",
   "language": "python",
   "name": "python3"
  },
  "language_info": {
   "codemirror_mode": {
    "name": "ipython",
    "version": 3
   },
   "file_extension": ".py",
   "mimetype": "text/x-python",
   "name": "python",
   "nbconvert_exporter": "python",
   "pygments_lexer": "ipython3",
   "version": "3.9.12"
  }
 },
 "nbformat": 4,
 "nbformat_minor": 5
}
